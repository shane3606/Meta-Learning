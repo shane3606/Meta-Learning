{
 "cells": [
  {
   "cell_type": "markdown",
   "metadata": {
    "id": "pxthmFCWE1ku"
   },
   "source": [
    "## 1. Omniglot download"
   ]
  },
  {
   "cell_type": "code",
   "execution_count": 7,
   "metadata": {
    "executionInfo": {
     "elapsed": 943,
     "status": "ok",
     "timestamp": 1615446376972,
     "user": {
      "displayName": "Sanghyun Seo",
      "photoUrl": "https://lh3.googleusercontent.com/a-/AOh14GiyjIj6kA6151_HBrCZmfFqMIMsXmdFXFLAzkj8=s64",
      "userId": "05995424227728546557"
     },
     "user_tz": -540
    },
    "id": "D3o_ss-w1gxz"
   },
   "outputs": [],
   "source": [
    "import os\n",
    "try:\n",
    "    from google_drive_downloader import GoogleDriveDownloader as gdd\n",
    "except ModuleNotFoundError:\n",
    "    !pip install googledrivedownloader\n",
    "    from google_drive_downloader import GoogleDriveDownloader as gdd\n",
    "    print(\"import google_drive_downloader...!\")\n",
    "# Need to download the Omniglot dataset -- DON'T MODIFY THIS CELL\n",
    "if not os.path.isdir('./omniglot_resized'):\n",
    "    gdd.download_file_from_google_drive(file_id='1iaSFXIYC3AB8q9K_M-oVMa4pmB7yKMtI',\n",
    "                                        dest_path='./omniglot_resized.zip',\n",
    "                                        unzip=True)\n",
    "    \n",
    "assert os.path.isdir('./omniglot_resized')"
   ]
  },
  {
   "cell_type": "markdown",
   "metadata": {
    "id": "AdrpmERkE61g"
   },
   "source": [
    "### 2. Helper function & Datagenerator class"
   ]
  },
  {
   "cell_type": "code",
   "execution_count": 6,
   "metadata": {
    "executionInfo": {
     "elapsed": 3089,
     "status": "ok",
     "timestamp": 1615446379124,
     "user": {
      "displayName": "Sanghyun Seo",
      "photoUrl": "https://lh3.googleusercontent.com/a-/AOh14GiyjIj6kA6151_HBrCZmfFqMIMsXmdFXFLAzkj8=s64",
      "userId": "05995424227728546557"
     },
     "user_tz": -540
    },
    "id": "tZDaahLg1mer"
   },
   "outputs": [],
   "source": [
    "import numpy as np\n",
    "import os\n",
    "import random\n",
    "import tensorflow as tf\n",
    "from scipy import misc\n",
    "import matplotlib.pyplot as plt\n",
    "\n",
    "def get_images(paths, labels, nb_samples=None, shuffle=True):\n",
    "    \"\"\"\n",
    "    Takes a set of character folders and labels and returns paths to image files\n",
    "    paired with labels.\n",
    "    Args:\n",
    "        paths: A list of character folders\n",
    "        labels: List or numpy array of same length as paths\n",
    "        nb_samples: Number of images to retrieve per character\n",
    "    Returns:\n",
    "        List of (label, image_path) tuples\n",
    "    \"\"\"\n",
    "    if nb_samples is not None:\n",
    "        sampler = lambda x: random.sample(x, nb_samples)\n",
    "    else:\n",
    "        sampler = lambda x: x\n",
    "        \n",
    "    ## If you are using google colab, you need to use this code!   \n",
    "    #images_labels = [(i, os.path.join(path, image.decode('UTF-8')))\n",
    "    #                 for i, path in zip(labels, paths)\n",
    "    #                 for image in sampler(os.listdir(path))]\n",
    "    \n",
    "    images_labels = [(i, os.path.join(path, image))\n",
    "                     for i, path in zip(labels, paths)\n",
    "                     for image in sampler(os.listdir(path))]\n",
    "    if shuffle:\n",
    "        random.shuffle(images_labels)\n",
    "    return images_labels\n",
    "\n",
    "\n",
    "def image_file_to_array(filename, dim_input):\n",
    "    \"\"\"\n",
    "    Takes an image path and returns numpy array\n",
    "    Args:\n",
    "        filename: Image filename\n",
    "        dim_input: Flattened shape of image\n",
    "    Returns:\n",
    "        1 channel image\n",
    "    \"\"\"\n",
    "    import imageio\n",
    "    image = imageio.imread(filename)  # misc.imread(filename)\n",
    "    image = image.reshape([dim_input])\n",
    "    image = image.astype(np.float32) / 255.0\n",
    "    image = 1.0 - image\n",
    "    return image\n",
    "\n",
    "\n",
    "class DataGenerator(object):\n",
    "    \"\"\"\n",
    "    Data Generator capable of generating batches of Omniglot data.\n",
    "    A \"class\" is considered a class of omniglot digits.\n",
    "    \"\"\"\n",
    "\n",
    "    def __init__(self, num_classes, num_samples_per_class, config={}):\n",
    "        \"\"\"\n",
    "        Args:\n",
    "            num_classes: Number of classes for classification (K-way)\n",
    "            num_samples_per_class: num samples to generate per class in one batch\n",
    "            batch_size: size of meta batch size (e.g. number of functions)\n",
    "        \"\"\"\n",
    "        self.num_samples_per_class = num_samples_per_class\n",
    "        self.num_classes = num_classes\n",
    "\n",
    "        data_folder = config.get('data_folder', './omniglot_resized')\n",
    "        self.img_size = config.get('img_size', (28, 28))\n",
    "\n",
    "        self.dim_input = np.prod(self.img_size)\n",
    "        self.dim_output = self.num_classes\n",
    "\n",
    "        character_folders = [os.path.join(data_folder, family, character)\n",
    "                             for family in os.listdir(data_folder)\n",
    "                             if os.path.isdir(os.path.join(data_folder, family))\n",
    "                             for character in os.listdir(os.path.join(data_folder, family))\n",
    "                             if os.path.isdir(os.path.join(data_folder, family, character))]\n",
    "\n",
    "        random.seed(1)\n",
    "        random.shuffle(character_folders)\n",
    "        num_val = 100\n",
    "        num_train = 1100\n",
    "        self.metatrain_character_folders = character_folders[: num_train]\n",
    "        self.metaval_character_folders = character_folders[\n",
    "            num_train:num_train + num_val]\n",
    "        self.metatest_character_folders = character_folders[\n",
    "            num_train + num_val:]\n",
    "\n",
    "    def sample_batch(self, batch_type, batch_size, shuffle=False):\n",
    "        \"\"\"\n",
    "        Samples a batch for training, validation, or testing\n",
    "        Args:\n",
    "            batch_type: train/val/test\n",
    "        Returns:\n",
    "            A a tuple of (1) Image batch and (2) Label batch where\n",
    "            image batch has shape [B, K, N, 784] and label batch has shape [B, K, N, N]\n",
    "            where B is batch size, K is number of samples per class, N is number of classes\n",
    "        \"\"\"\n",
    "        if batch_type == \"train\":\n",
    "            folders = self.metatrain_character_folders\n",
    "        elif batch_type == \"val\":\n",
    "            folders = self.metaval_character_folders\n",
    "        else:\n",
    "            folders = self.metatest_character_folders\n",
    "\n",
    "        #############################\n",
    "        #### YOUR CODE GOES HERE ####\n",
    "        #pass\n",
    "        all_image_batches = []\n",
    "        all_label_batches = []\n",
    "        \n",
    "        for index in range(batch_size):\n",
    "            n_classes = np.random.choice(folders, self.num_classes,replace=False)\n",
    "            images, labels = [], []\n",
    "            \n",
    "            samples=get_images(n_classes,range(self.num_classes),nb_samples=self.num_samples_per_class,shuffle=shuffle)\n",
    "            for s_idx, (label, image) in enumerate(samples):\n",
    "                sample_image=image_file_to_array(image, self.dim_input)\n",
    "                images.append(sample_image)\n",
    "                labels.append(label)\n",
    "            \n",
    "            images=np.stack(images)\n",
    "            images=np.reshape(images,(self.num_classes,self.num_samples_per_class,self.dim_input))\n",
    "            labels=np.asarray(labels)\n",
    "            labels=np.reshape(labels,(self.num_classes,self.num_samples_per_class))\n",
    "            labels = np.eye(self.num_classes)[labels]\n",
    "            \n",
    "            labels = np.swapaxes(labels, 0, 1)\n",
    "            images = np.swapaxes(images, 0, 1)\n",
    "            \n",
    "            all_image_batches.append(images)\n",
    "            all_label_batches.append(labels)\n",
    "            \n",
    "        all_image_batches = np.stack(all_image_batches)\n",
    "        all_label_batches = np.stack(all_label_batches)\n",
    "\n",
    "        #############################\n",
    "\n",
    "        return all_image_batches.astype(np.float32), all_label_batches.astype(np.float32)\n"
   ]
  },
  {
   "cell_type": "markdown",
   "metadata": {
    "id": "53zrE8BnEx8M"
   },
   "source": [
    "## 3. Data preprocessing for few-shot classification\n",
    "#### shuffle: False"
   ]
  },
  {
   "cell_type": "code",
   "execution_count": 7,
   "metadata": {
    "colab": {
     "base_uri": "https://localhost:8080/"
    },
    "executionInfo": {
     "elapsed": 3083,
     "status": "ok",
     "timestamp": 1615446379126,
     "user": {
      "displayName": "Sanghyun Seo",
      "photoUrl": "https://lh3.googleusercontent.com/a-/AOh14GiyjIj6kA6151_HBrCZmfFqMIMsXmdFXFLAzkj8=s64",
      "userId": "05995424227728546557"
     },
     "user_tz": -540
    },
    "id": "SI0cnlpRExKh",
    "outputId": "b2f56512-08c1-4d24-ae7e-46e6a55ee24a"
   },
   "outputs": [
    {
     "name": "stdout",
     "output_type": "stream",
     "text": [
      "Batch of images of shape: (2, 3, 5, 784)\n",
      "Batch of labels of shape: (2, 3, 5, 5)\n",
      "[1. 0. 0. 0. 0.]\n",
      "[0. 1. 0. 0. 0.]\n",
      "[0. 0. 1. 0. 0.]\n",
      "[0. 0. 0. 1. 0.]\n",
      "[0. 0. 0. 0. 1.]\n"
     ]
    }
   ],
   "source": [
    "num_classes=5\n",
    "num_samples_per_class=3\n",
    "\n",
    "data = DataGenerator(num_classes, num_samples_per_class)\n",
    "\n",
    "images, labels = data.sample_batch('train', batch_size=2)\n",
    "print(\"Batch of images of shape:\", images.shape)\n",
    "print(\"Batch of labels of shape:\", labels.shape)\n",
    "for i in range(num_classes):\n",
    "    print(labels[0,0,i])"
   ]
  },
  {
   "cell_type": "code",
   "execution_count": 8,
   "metadata": {
    "colab": {
     "base_uri": "https://localhost:8080/",
     "height": 1000
    },
    "executionInfo": {
     "elapsed": 3938,
     "status": "ok",
     "timestamp": 1615446379990,
     "user": {
      "displayName": "Sanghyun Seo",
      "photoUrl": "https://lh3.googleusercontent.com/a-/AOh14GiyjIj6kA6151_HBrCZmfFqMIMsXmdFXFLAzkj8=s64",
      "userId": "05995424227728546557"
     },
     "user_tz": -540
    },
    "id": "r-4V7Z4dExNa",
    "outputId": "6b9425d8-6d57-4f85-8dff-5b5540f893e9"
   },
   "outputs": [
    {
     "name": "stdout",
     "output_type": "stream",
     "text": [
      "####################\n",
      "meta-batch 0: \n",
      "####################\n"
     ]
    },
    {
     "data": {
      "image/png": "[encoded data removed]",
      "text/plain": [
       "<Figure size 720x720 with 15 Axes>"
      ]
     },
     "metadata": {
      "needs_background": "light"
     },
     "output_type": "display_data"
    },
    {
     "name": "stdout",
     "output_type": "stream",
     "text": [
      "####################\n",
      "meta-batch 1: \n",
      "####################\n"
     ]
    },
    {
     "data": {
      "image/png": "[encoded data removed]",
      "text/plain": [
       "<Figure size 720x720 with 15 Axes>"
      ]
     },
     "metadata": {
      "needs_background": "light"
     },
     "output_type": "display_data"
    }
   ],
   "source": [
    "for b in range(len(images)): # batch size\n",
    "    print(\"#\"*20)\n",
    "    print(\"meta-batch {}: \".format(b))\n",
    "    print(\"#\"*20)\n",
    "    count = 0\n",
    "    fig = plt.figure(figsize=(10, 10))\n",
    "    for cl in range(num_classes): # n-way\n",
    "        for sa in range(num_samples_per_class): # k-shot\n",
    "            plt.subplot(num_classes, num_samples_per_class, count + 1)\n",
    "            plt.title(\"Class {} - Example {}\".format(cl, sa))\n",
    "            image = images[b, sa, cl].reshape((28,28))\n",
    "            plt.imshow(image)\n",
    "            plt.axis('off');\n",
    "            count += 1\n",
    "    plt.show()"
   ]
  },
  {
   "cell_type": "markdown",
   "metadata": {
    "id": "zX2P7EbyGpJ5"
   },
   "source": [
    "#### Shuffle: True"
   ]
  },
  {
   "cell_type": "code",
   "execution_count": 9,
   "metadata": {
    "colab": {
     "base_uri": "https://localhost:8080/"
    },
    "executionInfo": {
     "elapsed": 3933,
     "status": "ok",
     "timestamp": 1615446379991,
     "user": {
      "displayName": "Sanghyun Seo",
      "photoUrl": "https://lh3.googleusercontent.com/a-/AOh14GiyjIj6kA6151_HBrCZmfFqMIMsXmdFXFLAzkj8=s64",
      "userId": "05995424227728546557"
     },
     "user_tz": -540
    },
    "id": "1w7Xhg6jExP9",
    "outputId": "108d4c40-5b2c-4c7c-ca11-fa2a09243987"
   },
   "outputs": [
    {
     "name": "stdout",
     "output_type": "stream",
     "text": [
      "Batch of images of shape: (2, 3, 5, 784)\n",
      "Batch of labels of shape: (2, 3, 5, 5)\n",
      "[0. 0. 1. 0. 0.]\n",
      "[0. 1. 0. 0. 0.]\n",
      "[0. 0. 0. 1. 0.]\n",
      "[1. 0. 0. 0. 0.]\n",
      "[0. 0. 0. 1. 0.]\n"
     ]
    }
   ],
   "source": [
    "num_classes=5\n",
    "num_samples_per_class=3\n",
    "\n",
    "data = DataGenerator(num_classes, num_samples_per_class)\n",
    "\n",
    "images, labels = data.sample_batch('train', batch_size=2, shuffle=True)\n",
    "print(\"Batch of images of shape:\", images.shape)\n",
    "print(\"Batch of labels of shape:\", labels.shape)\n",
    "for i in range(num_classes):\n",
    "    print(labels[0,0,i])"
   ]
  },
  {
   "cell_type": "code",
   "execution_count": 10,
   "metadata": {
    "colab": {
     "base_uri": "https://localhost:8080/",
     "height": 1000
    },
    "executionInfo": {
     "elapsed": 5197,
     "status": "ok",
     "timestamp": 1615446381261,
     "user": {
      "displayName": "Sanghyun Seo",
      "photoUrl": "https://lh3.googleusercontent.com/a-/AOh14GiyjIj6kA6151_HBrCZmfFqMIMsXmdFXFLAzkj8=s64",
      "userId": "05995424227728546557"
     },
     "user_tz": -540
    },
    "id": "wZ9RZ0YQ2Tpx",
    "outputId": "6efb7ce2-c82e-44ff-ce26-8faf97023729"
   },
   "outputs": [
    {
     "name": "stdout",
     "output_type": "stream",
     "text": [
      "####################\n",
      "meta-batch 0: \n",
      "####################\n"
     ]
    },
    {
     "data": {
      "image/png": "[encoded data removed]",
      "text/plain": [
       "<Figure size 720x720 with 15 Axes>"
      ]
     },
     "metadata": {
      "needs_background": "light"
     },
     "output_type": "display_data"
    },
    {
     "name": "stdout",
     "output_type": "stream",
     "text": [
      "####################\n",
      "meta-batch 1: \n",
      "####################\n"
     ]
    },
    {
     "data": {
      "image/png": "[encoded data removed]",
      "text/plain": [
       "<Figure size 720x720 with 15 Axes>"
      ]
     },
     "metadata": {
      "needs_background": "light"
     },
     "output_type": "display_data"
    }
   ],
   "source": [
    "for b in range(len(images)): # batch size\n",
    "    print(\"#\"*20)\n",
    "    print(\"meta-batch {}: \".format(b))\n",
    "    print(\"#\"*20)\n",
    "    count = 0\n",
    "    fig = plt.figure(figsize=(10, 10))\n",
    "    for cl in range(num_classes): # n-way\n",
    "        for sa in range(num_samples_per_class): # k-shot\n",
    "            plt.subplot(num_classes, num_samples_per_class, count + 1)\n",
    "            plt.title(\"Class {} - Example {}\".format(cl, sa))\n",
    "            image = images[b, sa, cl].reshape((28,28))\n",
    "            plt.imshow(image)\n",
    "            plt.axis('off');\n",
    "            count += 1\n",
    "    plt.show()"
   ]
  },
  {
   "cell_type": "code",
   "execution_count": null,
   "metadata": {},
   "outputs": [],
   "source": []
  }
 ],
 "metadata": {
  "colab": {
   "authorship_tag": "ABX9TyNGanTROqHooBARgIrHtqcX",
   "collapsed_sections": [],
   "name": "HW1_data_processing_for_few-shot_learning_solution.ipynb",
   "provenance": []
  },
  "kernelspec": {
   "display_name": "Python 3",
   "language": "python",
   "name": "python3"
  },
  "language_info": {
   "codemirror_mode": {
    "name": "ipython",
    "version": 3
   },
   "file_extension": ".py",
   "mimetype": "text/x-python",
   "name": "python",
   "nbconvert_exporter": "python",
   "pygments_lexer": "ipython3",
   "version": "3.8.5"
  }
 },
 "nbformat": 4,
 "nbformat_minor": 4
}
