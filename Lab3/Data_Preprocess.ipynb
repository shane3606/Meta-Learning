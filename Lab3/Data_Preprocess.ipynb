{
 "cells": [
  {
   "cell_type": "markdown",
   "id": "9def7a87",
   "metadata": {},
   "source": [
    "파일에는 전처리한 사진 폴더 링크를 첨부하여서 실행할 필요가 없씀\n",
    "구글 드라이브 링크\n",
    "https://drive.google.com/drive/folders/18oTj2psNKg5n1OaQSqb9pei4jC4cNleB?usp=sharing"
   ]
  },
  {
   "cell_type": "code",
   "execution_count": 1,
   "id": "8d5ca821",
   "metadata": {},
   "outputs": [],
   "source": [
    "import cv2\n",
    "import os\n",
    "import numpy as np\n",
    "from PIL import Image"
   ]
  },
  {
   "cell_type": "code",
   "execution_count": 3,
   "id": "fc589519",
   "metadata": {},
   "outputs": [
    {
     "name": "stdout",
     "output_type": "stream",
     "text": [
      "Done\n"
     ]
    }
   ],
   "source": [
    "for i in range(1,91):\n",
    "    path1='./mask_resized/task'+str(i)+'/mask1'\n",
    "    save_path='./mask/task'+str(i)+'/mask1'\n",
    "    imagePaths1=[]\n",
    "    imagePaths1=[os.path.join(path1,file_name) for file_name in os.listdir(path1)]\n",
    "    count=0\n",
    "    #print(path1)\n",
    "    for imagePath in imagePaths1:\n",
    "        count+=1\n",
    "        img=Image.open(imagePath)\n",
    "        img_numpy=np.array(img,'float32')\n",
    "        gray=cv2.cvtColor(img_numpy,cv2.COLOR_BGR2GRAY)\n",
    "        cv2.imwrite(save_path+\"/1.\"+str(count)+\".png\",gray)\n",
    "print(\"Done\")"
   ]
  },
  {
   "cell_type": "code",
   "execution_count": 4,
   "id": "cb72b6c5",
   "metadata": {},
   "outputs": [
    {
     "name": "stdout",
     "output_type": "stream",
     "text": [
      "Done\n"
     ]
    }
   ],
   "source": [
    "for i in range(1,91):\n",
    "    path1='./mask_resized/task'+str(i)+'/mask2'\n",
    "    save_path='./mask/task'+str(i)+'/mask2'\n",
    "    imagePaths1=[]\n",
    "    imagePaths1=[os.path.join(path1,file_name) for file_name in os.listdir(path1)]\n",
    "    count=0\n",
    "    #print(path1)\n",
    "    for imagePath in imagePaths1:\n",
    "        count+=1\n",
    "        img=Image.open(imagePath)\n",
    "        img_numpy=np.array(img,'float32')\n",
    "        gray=cv2.cvtColor(img_numpy,cv2.COLOR_BGR2GRAY)\n",
    "        cv2.imwrite(save_path+\"/1.\"+str(count)+\".png\",gray)\n",
    "print(\"Done\")"
   ]
  },
  {
   "cell_type": "code",
   "execution_count": 5,
   "id": "1f139e43",
   "metadata": {},
   "outputs": [
    {
     "name": "stdout",
     "output_type": "stream",
     "text": [
      "Done\n"
     ]
    }
   ],
   "source": [
    "for i in range(1,91):\n",
    "    path1='./mask_resized/task'+str(i)+'/mask3'\n",
    "    save_path='./mask/task'+str(i)+'/mask3'\n",
    "    imagePaths1=[]\n",
    "    imagePaths1=[os.path.join(path1,file_name) for file_name in os.listdir(path1)]\n",
    "    count=0\n",
    "    #print(path1)\n",
    "    for imagePath in imagePaths1:\n",
    "        count+=1\n",
    "        img=Image.open(imagePath)\n",
    "        img_numpy=np.array(img,'float32')\n",
    "        gray=cv2.cvtColor(img_numpy,cv2.COLOR_BGR2GRAY)\n",
    "        cv2.imwrite(save_path+\"/1.\"+str(count)+\".png\",gray)\n",
    "print(\"Done\")"
   ]
  },
  {
   "cell_type": "code",
   "execution_count": 6,
   "id": "97bcf6ec",
   "metadata": {},
   "outputs": [],
   "source": [
    "for i in range(1,91):\n",
    "    path='./mask/task'+str(i)+'/mask1'\n",
    "    imagePaths=[os.path.join(path,file_name) for file_name in os.listdir(path)]\n",
    "    for imagePath in imagePaths:\n",
    "        img=Image.open(imagePath)\n",
    "        img_resize=img.resize((128,128))\n",
    "        img_resize.save(imagePath)"
   ]
  },
  {
   "cell_type": "code",
   "execution_count": 7,
   "id": "06696229",
   "metadata": {},
   "outputs": [],
   "source": [
    "for i in range(1,91):\n",
    "    path='./mask/task'+str(i)+'/mask2'\n",
    "    imagePaths=[os.path.join(path,file_name) for file_name in os.listdir(path)]\n",
    "    for imagePath in imagePaths:\n",
    "        img=Image.open(imagePath)\n",
    "        img_resize=img.resize((128,128))\n",
    "        img_resize.save(imagePath)"
   ]
  },
  {
   "cell_type": "code",
   "execution_count": 8,
   "id": "f93d7024",
   "metadata": {},
   "outputs": [],
   "source": [
    "for i in range(1,91):\n",
    "    path='./mask/task'+str(i)+'/mask3'\n",
    "    imagePaths=[os.path.join(path,file_name) for file_name in os.listdir(path)]\n",
    "    for imagePath in imagePaths:\n",
    "        img=Image.open(imagePath)\n",
    "        img_resize=img.resize((128,128))\n",
    "        img_resize.save(imagePath)"
   ]
  },
  {
   "cell_type": "code",
   "execution_count": null,
   "id": "5bf9dff3",
   "metadata": {},
   "outputs": [],
   "source": []
  }
 ],
 "metadata": {
  "kernelspec": {
   "display_name": "Python 3",
   "language": "python",
   "name": "python3"
  },
  "language_info": {
   "codemirror_mode": {
    "name": "ipython",
    "version": 3
   },
   "file_extension": ".py",
   "mimetype": "text/x-python",
   "name": "python",
   "nbconvert_exporter": "python",
   "pygments_lexer": "ipython3",
   "version": "3.8.8"
  }
 },
 "nbformat": 4,
 "nbformat_minor": 5
}
